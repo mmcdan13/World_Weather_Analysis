{
 "cells": [
  {
   "cell_type": "markdown",
   "id": "67d3fa3e",
   "metadata": {},
   "source": [
    "## Random Number Generation (via the Random module and NumPy module)"
   ]
  },
  {
   "cell_type": "code",
   "execution_count": 6,
   "id": "fe96343b",
   "metadata": {},
   "outputs": [],
   "source": [
    "#Import Dependencies\n",
    "\n",
    "import random\n",
    "import numpy as np\n",
    "import timeit\n",
    "\n",
    "#Note numpy has its own random module so no need to import random if you import numpy"
   ]
  },
  {
   "cell_type": "code",
   "execution_count": 2,
   "id": "dcc3cf7b",
   "metadata": {},
   "outputs": [],
   "source": [
    "# if you do random. then press tab it will generate a list of functions in the random module \n",
    "\n",
    "# Popular Random functions:\n",
    "\n",
    "#randint -- produces a random integer\n",
    "#random -- produces a random decimal point number between 0 and 1.0\n",
    "#randrange -- produces a number between the two paramerters, where the step is the...\n",
    "#...difference between each number in the sequence.\n",
    "#unique -- produces a floating-point decimal number between two given numbers inside the parentheses but will...\n",
    "#... not produce an integer\n",
    "\n",
    "#we could combine the first two to produce random coordinates"
   ]
  },
  {
   "cell_type": "code",
   "execution_count": 3,
   "id": "8620d795",
   "metadata": {},
   "outputs": [],
   "source": [
    "x = 1\n",
    "latitudes = []\n",
    "while x < 11:\n",
    "    random_lat = random.randint(-90, 89) + random.random()\n",
    "    latitudes.append(random_lat)\n",
    "    x += 1"
   ]
  },
  {
   "cell_type": "code",
   "execution_count": 4,
   "id": "31766607",
   "metadata": {},
   "outputs": [
    {
     "data": {
      "text/plain": [
       "[-88.08275672981009,\n",
       " -50.42073646376852,\n",
       " 59.663724170074005,\n",
       " 66.33212301175483,\n",
       " 14.827303576443063,\n",
       " -37.48148385941037,\n",
       " 78.26033914933124,\n",
       " 27.744638125608347,\n",
       " -55.14307906273215,\n",
       " 43.618142744576154]"
      ]
     },
     "execution_count": 4,
     "metadata": {},
     "output_type": "execute_result"
    }
   ],
   "source": [
    "latitudes"
   ]
  },
  {
   "cell_type": "code",
   "execution_count": 5,
   "id": "4773dd86",
   "metadata": {},
   "outputs": [
    {
     "data": {
      "text/plain": [
       "array([ -7.74726554,  46.94475448,  72.78852982, -16.99323239,\n",
       "       -76.36099321,  82.97478289,  64.00541724,  34.66347172,\n",
       "       -78.4800046 , -88.29107672, -81.69291707, -38.77335814,\n",
       "       -88.7188245 ,  27.14223437, -31.96829891,   2.49213492,\n",
       "       -87.80639186,  14.91172383,   3.67698592, -66.82399513,\n",
       "        11.32475962,  57.09223784, -57.10245402, -83.77399028,\n",
       "        56.48914599,  76.87852384,  35.9526784 , -65.34229648,\n",
       "       -27.40973565,  72.6640965 ,  85.18466377,  84.04236934,\n",
       "       -50.71357541,  83.67599585,  10.6318544 , -69.29678209,\n",
       "       -40.83429102, -64.93689103, -31.59311055, -57.70808295,\n",
       "        45.09226955,  -3.70861583,  40.82687688,   1.77391069,\n",
       "        85.31240992,  83.37323057,  81.49510072,  39.06730244,\n",
       "       -73.79129461, -28.12648455])"
      ]
     },
     "execution_count": 5,
     "metadata": {},
     "output_type": "execute_result"
    }
   ],
   "source": [
    "np.random.uniform(-90.000, 90.000, size=50)"
   ]
  },
  {
   "cell_type": "code",
   "execution_count": 7,
   "id": "c8702fdb",
   "metadata": {},
   "outputs": [
    {
     "name": "stdout",
     "output_type": "stream",
     "text": [
      "15.8 µs ± 37.6 ns per loop (mean ± std. dev. of 7 runs, 100,000 loops each)\n"
     ]
    }
   ],
   "source": [
    "%timeit np.random.uniform(-90.000, 90.000, size=1500)"
   ]
  },
  {
   "cell_type": "code",
   "execution_count": 8,
   "id": "3e549682",
   "metadata": {},
   "outputs": [
    {
     "name": "stdout",
     "output_type": "stream",
     "text": [
      "1.12 ms ± 1.69 µs per loop (mean ± std. dev. of 7 runs, 1,000 loops each)\n"
     ]
    }
   ],
   "source": [
    "def latitudes(size):\n",
    "    latitudes = []\n",
    "    x = 0\n",
    "    while x < (size):\n",
    "        random_lat = random.randint(-90, 90) + random.random()\n",
    "        latitudes.append(random_lat)\n",
    "        x += 1\n",
    "    return latitudes\n",
    "# Call the function with 1500.\n",
    "%timeit latitudes(1500)"
   ]
  },
  {
   "cell_type": "markdown",
   "id": "1afe90be",
   "metadata": {},
   "source": [
    "## API Practice using Zip object"
   ]
  },
  {
   "cell_type": "code",
   "execution_count": 10,
   "id": "6f03939b",
   "metadata": {},
   "outputs": [],
   "source": [
    "# Create a practice set of random latitude and longitude combinations.\n",
    "lats = [25.12903645, 25.92017388, 26.62509167, -59.98969384, 37.30571269]\n",
    "lngs = [-67.59741259, 11.09532135, 74.84233102, -76.89176677, -61.13376282]\n",
    "lat_lngs = zip(lats, lngs)"
   ]
  },
  {
   "cell_type": "code",
   "execution_count": 11,
   "id": "9d0c7bbf",
   "metadata": {},
   "outputs": [],
   "source": [
    "coordinates = list(lat_lngs)"
   ]
  },
  {
   "cell_type": "code",
   "execution_count": 14,
   "id": "6d0501c7",
   "metadata": {},
   "outputs": [
    {
     "data": {
      "text/plain": [
       "25.12903645"
      ]
     },
     "execution_count": 14,
     "metadata": {},
     "output_type": "execute_result"
    }
   ],
   "source": [
    "coordinates[0][0]"
   ]
  },
  {
   "cell_type": "code",
   "execution_count": 15,
   "id": "69ff3e7c",
   "metadata": {},
   "outputs": [],
   "source": [
    "# Use the citipy module to determine city based on latitude and longitude.\n",
    "from citipy import citipy"
   ]
  },
  {
   "cell_type": "code",
   "execution_count": 16,
   "id": "ba3621e3",
   "metadata": {},
   "outputs": [
    {
     "name": "stdout",
     "output_type": "stream",
     "text": [
      "cockburn town tc\n",
      "gat ly\n",
      "parvatsar in\n",
      "punta arenas cl\n",
      "saint george bm\n"
     ]
    }
   ],
   "source": [
    "# Use the print() function to display the latitude and longitude combinations.\n",
    "for coordinate in coordinates:\n",
    "    print(citipy.nearest_city(coordinate[0], coordinate[1]).city_name,\n",
    "          citipy.nearest_city(coordinate[0], coordinate[1]).country_code)"
   ]
  },
  {
   "cell_type": "code",
   "execution_count": null,
   "id": "664f3ea1",
   "metadata": {},
   "outputs": [],
   "source": []
  }
 ],
 "metadata": {
  "kernelspec": {
   "display_name": "PythonData",
   "language": "python",
   "name": "pythondata"
  },
  "language_info": {
   "codemirror_mode": {
    "name": "ipython",
    "version": 3
   },
   "file_extension": ".py",
   "mimetype": "text/x-python",
   "name": "python",
   "nbconvert_exporter": "python",
   "pygments_lexer": "ipython3",
   "version": "3.9.12"
  }
 },
 "nbformat": 4,
 "nbformat_minor": 5
}
